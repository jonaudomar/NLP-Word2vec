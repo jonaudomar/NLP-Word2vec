{
 "cells": [
  {
   "cell_type": "markdown",
   "metadata": {},
   "source": [
    "# Understand embeddings with Word2Vec"
   ]
  },
  {
   "cell_type": "markdown",
   "metadata": {},
   "source": [
    "### Exercise objectives:\n",
    "- Convert 🔠 words to 🔢 vector representations thanks to embeddings\n",
    "- Discover the powerful Word2Vec algorithm\n",
    "\n",
    "<hr>\n",
    "\n",
    "_Embeddings_ are representations of words using vectors. These embeddings can be learned within a Neural Network. But it can take time to converge. Another option is to learn them as a first step. Then, use them directly to feed the word representations into a Recurrent Neural Network. "
   ]
  },
  {
   "cell_type": "markdown",
   "metadata": {},
   "source": [
    "▶️ Run this cell and make sure the version of 📚 [Gensim - Word2Vec](https://radimrehurek.com/gensim/auto_examples/index.html) you are using is ≥ 4.0!"
   ]
  },
  {
   "cell_type": "code",
   "execution_count": 1,
   "metadata": {
    "execution": {
     "iopub.execute_input": "2025-08-26T14:16:39.395184Z",
     "iopub.status.busy": "2025-08-26T14:16:39.394647Z",
     "iopub.status.idle": "2025-08-26T14:16:39.942174Z",
     "shell.execute_reply": "2025-08-26T14:16:39.939647Z",
     "shell.execute_reply.started": "2025-08-26T14:16:39.395163Z"
    }
   },
   "outputs": [
    {
     "name": "stdout",
     "output_type": "stream",
     "text": [
      "gensim==4.3.3\n"
     ]
    }
   ],
   "source": [
    "!pip freeze | grep gensim"
   ]
  },
  {
   "cell_type": "code",
   "execution_count": 2,
   "metadata": {
    "execution": {
     "iopub.execute_input": "2025-08-26T14:17:07.212558Z",
     "iopub.status.busy": "2025-08-26T14:17:07.212218Z",
     "iopub.status.idle": "2025-08-26T14:17:07.581567Z",
     "shell.execute_reply": "2025-08-26T14:17:07.578319Z",
     "shell.execute_reply.started": "2025-08-26T14:17:07.212529Z"
    }
   },
   "outputs": [
    {
     "name": "stdout",
     "output_type": "stream",
     "text": [
      "tensorflow==2.16.2\n",
      "tensorflow-datasets==4.9.7\n",
      "tensorflow-metadata==1.16.1\n"
     ]
    }
   ],
   "source": [
    "!pip freeze | grep tensorflow"
   ]
  },
  {
   "cell_type": "markdown",
   "metadata": {},
   "source": [
    "# The data"
   ]
  },
  {
   "cell_type": "markdown",
   "metadata": {},
   "source": [
    "Keras provides many datasets, among which is the IMDB dataset 🎬:\n",
    "- It is comprised of sentences that are ***movie reviews***. \n",
    "- Each of these reviews is related to a score given by the reviewer.\n",
    "\n",
    "❓ **Question** ❓ First of all, let's load the data. You don't have to understand what is going on in the function, it does not matter here.\n",
    "\n",
    "⚠️ **Warning** ⚠️ The `load_data` function has a `percentage_of_sentences` argument. Depending on your computer, there are chances that too many sentences will make your compute slow down, or even freeze - your RAM can overflow. For that reason, **you should start with 10% of the sentences** and see if your computer can handle it. Otherwise, rerun with a lower number.  \n",
    "\n",
    "⚠️ **DISCLAIMER** ⚠️ **No need to play _who has the biggest_ (RAM) !** The idea is to get to run your models quickly to prototype. Even in real life, it is recommended that you start with a subset of your data to loop and debug quickly. So increase the number only if you are into getting the best accuracy. "
   ]
  },
  {
   "cell_type": "code",
   "execution_count": 3,
   "metadata": {
    "execution": {
     "iopub.execute_input": "2025-08-26T14:18:16.351187Z",
     "iopub.status.busy": "2025-08-26T14:18:16.350767Z",
     "iopub.status.idle": "2025-08-26T14:18:22.185196Z",
     "shell.execute_reply": "2025-08-26T14:18:22.184569Z",
     "shell.execute_reply.started": "2025-08-26T14:18:16.351169Z"
    }
   },
   "outputs": [
    {
     "name": "stderr",
     "output_type": "stream",
     "text": [
      "2025-08-26 16:18:17.144110: I tensorflow/core/util/port.cc:113] oneDNN custom operations are on. You may see slightly different numerical results due to floating-point round-off errors from different computation orders. To turn them off, set the environment variable `TF_ENABLE_ONEDNN_OPTS=0`.\n",
      "2025-08-26 16:18:17.154569: I external/local_tsl/tsl/cuda/cudart_stub.cc:32] Could not find cuda drivers on your machine, GPU will not be used.\n",
      "2025-08-26 16:18:17.241832: I external/local_tsl/tsl/cuda/cudart_stub.cc:32] Could not find cuda drivers on your machine, GPU will not be used.\n",
      "2025-08-26 16:18:17.338266: E external/local_xla/xla/stream_executor/cuda/cuda_fft.cc:479] Unable to register cuFFT factory: Attempting to register factory for plugin cuFFT when one has already been registered\n",
      "2025-08-26 16:18:17.432762: E external/local_xla/xla/stream_executor/cuda/cuda_dnn.cc:10575] Unable to register cuDNN factory: Attempting to register factory for plugin cuDNN when one has already been registered\n",
      "2025-08-26 16:18:17.433303: E external/local_xla/xla/stream_executor/cuda/cuda_blas.cc:1442] Unable to register cuBLAS factory: Attempting to register factory for plugin cuBLAS when one has already been registered\n",
      "2025-08-26 16:18:17.579045: I tensorflow/core/platform/cpu_feature_guard.cc:210] This TensorFlow binary is optimized to use available CPU instructions in performance-critical operations.\n",
      "To enable the following instructions: AVX2 AVX_VNNI FMA, in other operations, rebuild TensorFlow with the appropriate compiler flags.\n",
      "2025-08-26 16:18:18.523360: W tensorflow/compiler/tf2tensorrt/utils/py_utils.cc:38] TF-TRT Warning: Could not find TensorRT\n",
      "2025-08-26 16:18:20.721373: I external/local_xla/xla/stream_executor/cuda/cuda_executor.cc:984] could not open file to read NUMA node: /sys/bus/pci/devices/0000:01:00.0/numa_node\n",
      "Your kernel may have been built without NUMA support.\n",
      "2025-08-26 16:18:20.721640: W tensorflow/core/common_runtime/gpu/gpu_device.cc:2251] Cannot dlopen some GPU libraries. Please make sure the missing libraries mentioned above are installed properly if you would like to use GPU. Follow the guide at https://www.tensorflow.org/install/gpu for how to download and setup the required libraries for your platform.\n",
      "Skipping registering GPU devices...\n"
     ]
    }
   ],
   "source": [
    "###########################################\n",
    "### Just run this cell to load the data ###\n",
    "###########################################\n",
    "\n",
    "import tensorflow_datasets as tfds\n",
    "from tensorflow.keras.preprocessing.text import text_to_word_sequence\n",
    "\n",
    "def load_data(percentage_of_sentences=None):\n",
    "    train_data, test_data = tfds.load(name=\"imdb_reviews\", split=[\"train\", \"test\"], batch_size=-1, as_supervised=True)\n",
    "\n",
    "    train_sentences, y_train = tfds.as_numpy(train_data)\n",
    "    test_sentences, y_test = tfds.as_numpy(test_data)\n",
    "\n",
    "    # Take only a given percentage of the entire data\n",
    "    if percentage_of_sentences is not None:\n",
    "        assert(percentage_of_sentences> 0 and percentage_of_sentences<=100)\n",
    "\n",
    "        len_train = int(percentage_of_sentences/100*len(train_sentences))\n",
    "        train_sentences, y_train = train_sentences[:len_train], y_train[:len_train]\n",
    "\n",
    "        len_test = int(percentage_of_sentences/100*len(test_sentences))\n",
    "        test_sentences, y_test = test_sentences[:len_test], y_test[:len_test]\n",
    "\n",
    "    X_train = [text_to_word_sequence(_.decode(\"utf-8\")) for _ in train_sentences]\n",
    "    X_test = [text_to_word_sequence(_.decode(\"utf-8\")) for _ in test_sentences]\n",
    "\n",
    "    return X_train, y_train, X_test, y_test\n",
    "\n",
    "X_train, y_train, X_test, y_test = load_data(percentage_of_sentences=10)"
   ]
  },
  {
   "cell_type": "markdown",
   "metadata": {},
   "source": [
    "<b><u>Embeddings in the previous part of the notebook</u></b>:\n",
    "\n",
    "In the previous exercise, we jointly learned a representation for the words, and fed this representation to a RNN, as shown down below 👇: \n",
    "\n",
    "<img src=\"https://wagon-public-datasets.s3.amazonaws.com/data-science-images/06-DL/NLP/layers_embedding.png\" alt=\"Joint learning of embedding and RNN\" width=\"400px\" />\n",
    "\n",
    "However, this increases the number of parameters to learn, which slows down and increases the difficulty of convergence!"
   ]
  },
  {
   "cell_type": "markdown",
   "metadata": {},
   "source": [
    "<b><u>Embeddings in the current challenge</u></b>:\n",
    "\n",
    "For this reason, we will separate the steps of learning the word representation and feeding it into a RNN. As shown here: \n",
    "\n",
    "<img src=\"https://wagon-public-datasets.s3.amazonaws.com/data-science-images/06-DL/NLP/word2vec_representation.png\" alt=\"Training of RNN and embedding independently\" width=\"400px\" />\n",
    "\n",
    "We will learn the embedding with Word2Vec.\n",
    "\n",
    "The drawback is indeed that the learned embeddings are not _specifically_ designed for our task. However, learning them independently of the task at hand (sentiment analysis) has some advantages: \n",
    "- it is very fast to do in general (with Word2Vec)\n",
    "- the representation learned by Word2Vec is still meaningful \n",
    "- the convergence of the RNN alone will be easier and faster\n",
    "\n",
    "So let's learn an embedding with Word2Vec and see how meaningful it is!"
   ]
  },
  {
   "cell_type": "markdown",
   "metadata": {},
   "source": [
    "# Embedding with Word2Vec"
   ]
  },
  {
   "cell_type": "markdown",
   "metadata": {},
   "source": [
    "Let's use Word2Vec to embed the words of our sentences. Word2Vec will be able to convert each word to a fixed-size vectorial representation.\n",
    "\n",
    "For instance, we will have:\n",
    "- 🐶 _dog_ $\\rightarrow$ [0.1, -0.3, 0.8]\n",
    "- 🐱 _cat_ $\\rightarrow$ [-1.1, 2.3, 0.7]\n",
    "- 🍏 _apple_ $\\rightarrow$ [3.1, 0.9, -4.7]\n",
    "\n",
    "Here, your embedding space is of size 3.\n",
    "\n",
    "***What is a \"good\" numerical representation of words?***\n",
    "\n",
    "- ***Words with close meanings should be geometrically close in your embedding space!***\n",
    "\n",
    "    - Look at the following example which represents a bi-dimensional embedding space.\n",
    "\n",
    "![Embedding](https://wagon-public-datasets.s3.amazonaws.com/data-science-images/06-DL/NLP/word_embedding.png)"
   ]
  },
  {
   "cell_type": "markdown",
   "metadata": {},
   "source": [
    "❓ **Question** ❓ Let's run Word2Vec! \n",
    "\n",
    "[📚 **Gensim**](https://radimrehurek.com/gensim/)  is a great Python package that makes the use of the Word2Vec algorithm easy to implement, fast and accurate (which is not an easy task!).\n",
    "\n",
    "1. The following code imports Word2Vec from Gensim. \n",
    "\n",
    "2. The second line learns the embedding representation of the words thanks to the sentences in `X_train`. \n",
    "3. The third line stores the words and their trained embeddings in `wv`."
   ]
  },
  {
   "cell_type": "code",
   "execution_count": 4,
   "metadata": {
    "execution": {
     "iopub.execute_input": "2025-08-26T14:23:15.488170Z",
     "iopub.status.busy": "2025-08-26T14:23:15.487902Z",
     "iopub.status.idle": "2025-08-26T14:23:16.275528Z",
     "shell.execute_reply": "2025-08-26T14:23:16.274931Z",
     "shell.execute_reply.started": "2025-08-26T14:23:15.488154Z"
    }
   },
   "outputs": [],
   "source": [
    "from gensim.models import Word2Vec\n",
    "\n",
    "word2vec = Word2Vec(sentences=X_train)\n",
    "wv = word2vec.wv"
   ]
  },
  {
   "cell_type": "markdown",
   "metadata": {},
   "source": [
    "Let's look at the embedded representation of some words.\n",
    "\n",
    "You can use `wv` as a dictionary.\n",
    "For instance, `wv['dog']` will return a representation of `dog` in the embedding space."
   ]
  },
  {
   "cell_type": "markdown",
   "metadata": {},
   "source": [
    "❓ **Question** ❓ Try different words - especially, try non-existing words to see that they don't have any representation (which is perfectly normal as their representation was not learned). "
   ]
  },
  {
   "cell_type": "code",
   "execution_count": 8,
   "metadata": {
    "execution": {
     "iopub.execute_input": "2025-08-26T14:24:38.645386Z",
     "iopub.status.busy": "2025-08-26T14:24:38.645064Z",
     "iopub.status.idle": "2025-08-26T14:24:38.650740Z",
     "shell.execute_reply": "2025-08-26T14:24:38.650144Z",
     "shell.execute_reply.started": "2025-08-26T14:24:38.645366Z"
    },
    "tags": [
     "challengify"
    ]
   },
   "outputs": [
    {
     "data": {
      "text/plain": [
       "array([-0.24486509,  0.18484472, -0.11448745,  0.25338593, -0.05598014,\n",
       "       -0.34334177,  0.10164887,  0.59526974, -0.19009537, -0.1919046 ,\n",
       "       -0.05370337, -0.32174557,  0.0047357 ,  0.11162202, -0.08133352,\n",
       "       -0.23713984,  0.21855544, -0.24004629,  0.03722411, -0.3461882 ,\n",
       "        0.13082437,  0.05331436,  0.22904775, -0.08831796,  0.02726914,\n",
       "        0.03336902, -0.23790841, -0.1328563 , -0.15052442,  0.05334798,\n",
       "        0.16918066,  0.00500315,  0.16801609, -0.36965674, -0.11076816,\n",
       "        0.2655921 ,  0.1371812 , -0.21926299, -0.2810857 , -0.36110047,\n",
       "       -0.23001434, -0.2786743 , -0.24014948,  0.19422808,  0.35471016,\n",
       "       -0.0392474 , -0.20617937, -0.07370526,  0.28973982,  0.17935671,\n",
       "        0.10373782, -0.140959  , -0.25403574,  0.0328479 , -0.24342696,\n",
       "        0.15755689,  0.17300114, -0.10204551, -0.20842929,  0.04864869,\n",
       "        0.11047517,  0.01074638, -0.02789526,  0.14724779, -0.23406887,\n",
       "        0.20029472, -0.08939464,  0.18512593, -0.31099802,  0.3148424 ,\n",
       "       -0.1578557 ,  0.19882166,  0.32393306, -0.20371045,  0.29237887,\n",
       "        0.13657196,  0.03053791,  0.10999749, -0.19614218, -0.01232151,\n",
       "       -0.22073582, -0.1700364 , -0.18677482,  0.25290316, -0.14465529,\n",
       "       -0.17830385, -0.01947862,  0.2918205 ,  0.32654217,  0.12657924,\n",
       "        0.2359658 ,  0.214559  ,  0.04618032,  0.06604956,  0.4422763 ,\n",
       "        0.13841407,  0.26605028, -0.1904726 ,  0.03524043,  0.03507653],\n",
       "      dtype=float32)"
      ]
     },
     "execution_count": 8,
     "metadata": {},
     "output_type": "execute_result"
    }
   ],
   "source": [
    "wv['dog']"
   ]
  },
  {
   "cell_type": "markdown",
   "metadata": {},
   "source": [
    "❓ **Question** ❓ What is the size of each word representation, and therefore, what is the size of the embedding space?"
   ]
  },
  {
   "cell_type": "code",
   "execution_count": 6,
   "metadata": {
    "execution": {
     "iopub.execute_input": "2025-08-26T14:24:22.632459Z",
     "iopub.status.busy": "2025-08-26T14:24:22.632177Z",
     "iopub.status.idle": "2025-08-26T14:24:22.636029Z",
     "shell.execute_reply": "2025-08-26T14:24:22.635538Z",
     "shell.execute_reply.started": "2025-08-26T14:24:22.632438Z"
    },
    "tags": [
     "challengify"
    ]
   },
   "outputs": [
    {
     "name": "stdout",
     "output_type": "stream",
     "text": [
      "The embedding space is of size 100\n"
     ]
    }
   ],
   "source": [
    "size = len(wv['cat'])\n",
    "\n",
    "print(f'The embedding space is of size {size}')"
   ]
  },
  {
   "cell_type": "markdown",
   "metadata": {},
   "source": [
    "🧐 How do we know whether this embedding make any sense or not? \n",
    "\n",
    "💡 To investigate this question, we will check that words with a close meaning have close representations. \n",
    "\n",
    "👉 Let's use the [**`Word2Vec.wv.most_similar`**](https://radimrehurek.com/gensim/models/keyedvectors.html#gensim.models.keyedvectors.KeyedVectors.most_similar) method that, given an input word, displays the \"closest\" words in the embedding space. If the embedding is well done, then words with similar meanings will have similar representation in the embedding space."
   ]
  },
  {
   "cell_type": "markdown",
   "metadata": {},
   "source": [
    "❓ **Question** ❓ Try out the `most_similar` method on different words. \n",
    "\n",
    "🧑🏿‍🏫 The quality of the closeness will depend on the quality of your embedding, and thus, depend on the number of sentences that you have loaded and from which you create your embedding."
   ]
  },
  {
   "cell_type": "code",
   "execution_count": 11,
   "metadata": {
    "execution": {
     "iopub.execute_input": "2025-08-26T14:27:13.919640Z",
     "iopub.status.busy": "2025-08-26T14:27:13.918891Z",
     "iopub.status.idle": "2025-08-26T14:27:13.936417Z",
     "shell.execute_reply": "2025-08-26T14:27:13.935526Z",
     "shell.execute_reply.started": "2025-08-26T14:27:13.919620Z"
    },
    "tags": [
     "challengify"
    ]
   },
   "outputs": [
    {
     "data": {
      "text/plain": [
       "[('cell', 0.9751681089401245),\n",
       " ('field', 0.9736537933349609),\n",
       " ('wake', 0.9735592007637024),\n",
       " ('door', 0.9733165502548218),\n",
       " ('floor', 0.9713127017021179),\n",
       " ('scientist', 0.9713058471679688),\n",
       " ('victim', 0.9712003469467163),\n",
       " ('revenge', 0.968110978603363),\n",
       " ('building', 0.9680565595626831),\n",
       " ('gang', 0.9678930044174194)]"
      ]
     },
     "execution_count": 11,
     "metadata": {},
     "output_type": "execute_result"
    }
   ],
   "source": [
    "wv.most_similar(\"car\")"
   ]
  },
  {
   "cell_type": "markdown",
   "metadata": {},
   "source": [
    "📚 Similarly to `most_similar` used on words directly, we can use [**`similar_by_vector`**](https://radimrehurek.com/gensim/models/keyedvectors.html#gensim.models.keyedvectors.KeyedVectors.similar_by_vector) on vectors to do the same thing:"
   ]
  },
  {
   "cell_type": "code",
   "execution_count": 16,
   "metadata": {
    "execution": {
     "iopub.execute_input": "2025-08-26T14:28:09.940073Z",
     "iopub.status.busy": "2025-08-26T14:28:09.939240Z",
     "iopub.status.idle": "2025-08-26T14:28:09.946949Z",
     "shell.execute_reply": "2025-08-26T14:28:09.946301Z",
     "shell.execute_reply.started": "2025-08-26T14:28:09.940044Z"
    },
    "tags": [
     "challengify"
    ]
   },
   "outputs": [
    {
     "data": {
      "text/plain": [
       "[('car', 1.0000001192092896),\n",
       " ('cell', 0.9751681089401245),\n",
       " ('field', 0.9736537933349609),\n",
       " ('wake', 0.9735592007637024),\n",
       " ('door', 0.9733165502548218),\n",
       " ('floor', 0.9713127017021179),\n",
       " ('scientist', 0.9713058471679688),\n",
       " ('victim', 0.9712003469467163),\n",
       " ('revenge', 0.968110978603363),\n",
       " ('building', 0.9680565595626831)]"
      ]
     },
     "execution_count": 16,
     "metadata": {},
     "output_type": "execute_result"
    }
   ],
   "source": [
    "word_embedding = wv[\"car\"]\n",
    "wv.similar_by_vector(word_embedding)"
   ]
  },
  {
   "cell_type": "markdown",
   "metadata": {},
   "source": [
    "# Arithmetic on words"
   ]
  },
  {
   "cell_type": "markdown",
   "metadata": {},
   "source": [
    "Now, let's perform some mathematical operations on words, i.e. on their vector representations!\n",
    "\n",
    "As any learned word is represented as a vector, you can do basic arithmetic operations, such as:\n",
    "\n",
    "$$W2V(good) - W2V(bad)$$"
   ]
  },
  {
   "cell_type": "markdown",
   "metadata": {},
   "source": [
    "❓ **Question** ❓ Do this mathematical operation and print the result"
   ]
  },
  {
   "cell_type": "code",
   "execution_count": 17,
   "metadata": {
    "execution": {
     "iopub.execute_input": "2025-08-26T14:28:25.901441Z",
     "iopub.status.busy": "2025-08-26T14:28:25.901125Z",
     "iopub.status.idle": "2025-08-26T14:28:25.906539Z",
     "shell.execute_reply": "2025-08-26T14:28:25.905812Z",
     "shell.execute_reply.started": "2025-08-26T14:28:25.901421Z"
    },
    "tags": [
     "challengify"
    ]
   },
   "outputs": [
    {
     "data": {
      "text/plain": [
       "array([-0.33697236, -0.12355678,  0.19109121,  0.11674803, -0.06389832,\n",
       "       -0.2368421 , -0.10873079,  0.13126163,  0.13383505, -0.25258523,\n",
       "        0.02539569,  0.02237362,  0.48382708,  0.07742286, -0.28000063,\n",
       "        0.2977343 , -0.17625418,  0.11906385, -0.09267032,  0.2157489 ,\n",
       "       -0.10917908, -0.20691836,  0.01245642,  0.10591725,  0.20872164,\n",
       "        0.04835374,  0.12753674,  0.47959864, -0.09839514, -0.27712154,\n",
       "       -0.18991697,  0.30490476, -0.31052256,  0.08534941, -0.2190153 ,\n",
       "       -0.4405225 , -0.07035691, -0.18435073, -0.3875876 ,  0.824828  ,\n",
       "       -0.43581307, -0.05230802, -0.20224617, -0.13767952,  0.4180585 ,\n",
       "       -0.21881586,  0.23585612, -0.3865574 , -0.03092176,  0.32020998,\n",
       "        0.19050397, -0.1796661 , -0.43608633, -0.13028052, -0.12185046,\n",
       "        0.18843222,  0.05927777,  0.14337811,  0.07649106,  0.43722916,\n",
       "        0.15377888,  0.17714137, -0.34787   , -0.30928844,  0.3454256 ,\n",
       "        0.18170297, -0.49923065, -0.16725926,  0.66677606,  0.21383734,\n",
       "       -0.6715944 , -0.33946133,  0.18008813,  0.24716616, -0.26482612,\n",
       "       -0.13934222,  0.03995702, -0.1036315 ,  0.23490584,  0.1527562 ,\n",
       "       -0.07942861, -0.34259227, -0.63026303, -0.1099776 , -0.39780813,\n",
       "        0.09147905,  0.02895558, -0.28268307,  0.2677156 , -0.63895   ,\n",
       "       -0.67859995,  0.00109589,  0.3584681 ,  0.39735228, -0.18018508,\n",
       "       -0.20623374,  0.3874886 ,  0.46499202, -0.66978854,  0.2005347 ],\n",
       "      dtype=float32)"
      ]
     },
     "execution_count": 17,
     "metadata": {},
     "output_type": "execute_result"
    }
   ],
   "source": [
    "wv['good'] - wv['bad']"
   ]
  },
  {
   "cell_type": "markdown",
   "metadata": {},
   "source": [
    "Now, imagine for a second that the following equality holds true:\n",
    "\n",
    "$$W2V(good) - W2V(bad) = W2V(nice) - W2V(stupid)$$\n",
    "\n",
    "which is equivalent to:\n",
    "\n",
    "$$W2V(good) - W2V(bad) + W2V(stupid) = W2V(nice)$$"
   ]
  },
  {
   "cell_type": "markdown",
   "metadata": {},
   "source": [
    "❓ **Question** ❓ Let's, just for fun (as it would be bold of us to think that this equality holds true ...), do the operation $W2V(good) - W2V(bad) + W2V(stupid)$ and store it in a `res` variable (which will be a vector of size 100 that you can print)."
   ]
  },
  {
   "cell_type": "code",
   "execution_count": 18,
   "metadata": {
    "execution": {
     "iopub.execute_input": "2025-08-26T14:29:02.335041Z",
     "iopub.status.busy": "2025-08-26T14:29:02.334740Z",
     "iopub.status.idle": "2025-08-26T14:29:02.338154Z",
     "shell.execute_reply": "2025-08-26T14:29:02.337555Z",
     "shell.execute_reply.started": "2025-08-26T14:29:02.335022Z"
    },
    "tags": [
     "challengify"
    ]
   },
   "outputs": [],
   "source": [
    "res = wv['good'] - wv['bad'] + wv['stupid']"
   ]
  },
  {
   "cell_type": "markdown",
   "metadata": {},
   "source": [
    "We said earlier, that for any vector it is possible to see the closest vectors in the embedding space."
   ]
  },
  {
   "cell_type": "markdown",
   "metadata": {},
   "source": [
    "❓ **Question** ❓ Look at the closest vectors of `res`\n",
    "\n",
    "💡 _Hint_: `similar_by_vector`"
   ]
  },
  {
   "cell_type": "code",
   "execution_count": 19,
   "metadata": {
    "execution": {
     "iopub.execute_input": "2025-08-26T14:29:10.160951Z",
     "iopub.status.busy": "2025-08-26T14:29:10.160629Z",
     "iopub.status.idle": "2025-08-26T14:29:10.174780Z",
     "shell.execute_reply": "2025-08-26T14:29:10.174061Z",
     "shell.execute_reply.started": "2025-08-26T14:29:10.160928Z"
    },
    "tags": [
     "challengify"
    ]
   },
   "outputs": [
    {
     "data": {
      "text/plain": [
       "[('nice', 0.8605448603630066),\n",
       " ('decent', 0.8198989629745483),\n",
       " ('great', 0.8110835552215576),\n",
       " ('good', 0.7986159324645996),\n",
       " ('wonderful', 0.7908791303634644),\n",
       " ('reasonable', 0.77675461769104),\n",
       " ('potential', 0.768181562423706),\n",
       " ('worn', 0.7609519362449646),\n",
       " ('smart', 0.7602853178977966),\n",
       " ('twisty', 0.7591570019721985)]"
      ]
     },
     "execution_count": 19,
     "metadata": {},
     "output_type": "execute_result"
    }
   ],
   "source": [
    "wv.similar_by_vector(res)"
   ]
  },
  {
   "cell_type": "markdown",
   "metadata": {},
   "source": [
    "Incredible right! You can do arithmetic operations on words!\n",
    "\n",
    "❓ **Question** ❓ You can try on arithmetic such as \n",
    "\n",
    "$$W2V(Boy) - W2V(Girl) = W2V(Man) - W2V(Woman)$$\n",
    "\n",
    "or \n",
    "\n",
    "$$W2V(Queen) - W2V(King) = W2V(actress) - W2V(actor)$$\n",
    "\n",
    "❗ **Remark** ❗ You will probably see that the results are not perfect. But don't forget that you trained your model on a very small corpus."
   ]
  },
  {
   "cell_type": "code",
   "execution_count": 20,
   "metadata": {
    "execution": {
     "iopub.execute_input": "2025-08-26T14:29:41.081559Z",
     "iopub.status.busy": "2025-08-26T14:29:41.081106Z",
     "iopub.status.idle": "2025-08-26T14:29:41.093319Z",
     "shell.execute_reply": "2025-08-26T14:29:41.092570Z",
     "shell.execute_reply.started": "2025-08-26T14:29:41.081539Z"
    },
    "tags": [
     "challengify"
    ]
   },
   "outputs": [
    {
     "data": {
      "text/plain": [
       "[('actor', 0.9504028558731079),\n",
       " ('performance', 0.8637953400611877),\n",
       " ('role', 0.856353759765625),\n",
       " ('actress', 0.8343458771705627),\n",
       " ('character', 0.8208879232406616),\n",
       " ('man', 0.7892236709594727),\n",
       " ('guy', 0.7683107852935791),\n",
       " ('inexperienced', 0.7577995657920837),\n",
       " ('celebrity', 0.7543654441833496),\n",
       " ('job', 0.7484970092773438)]"
      ]
     },
     "execution_count": 20,
     "metadata": {},
     "output_type": "execute_result"
    }
   ],
   "source": [
    "res = wv['queen'] - wv['king'] + wv['actor']\n",
    "wv.similar_by_vector(res)"
   ]
  },
  {
   "cell_type": "markdown",
   "metadata": {},
   "source": [
    "<u><i>Some notes about Word2Vec as an internal Neural Network</i></u>:\n",
    "\n",
    "You might wonder where does this magic comes from (at quite a low price, you just ran a line of code on a very small corpus and it was trained within few minutes). The magic comes from the way Word2Vec is trained. The details are quite complex, but you can remember that Word2vec, in `word2vec = Word2Vec(sentences=X_train)`, actually trains a internal neural network (that you don't see).  \n",
    "\n",
    "In a nutshell, this internal neural network predicts a word from the surroundings words in a sentences. Hence, it splits the original sentences, then for each split it chooses some words as inputs $X$ and a word as the output $y$ which it tries to predict, using the embedding space.\n",
    "\n",
    "And as with any neural network, Word2Vec has some hyperparameters. Let's play with some of these. "
   ]
  },
  {
   "cell_type": "markdown",
   "metadata": {},
   "source": [
    "# Word2Vec hyperparameters"
   ]
  },
  {
   "cell_type": "markdown",
   "metadata": {},
   "source": [
    "❓ **Question** ❓ The first important hyperparameter is the `vector_size` argument. It corresponds to the size of the embedding space. Learn a new `word2vec_2` model, still trained on the `X_train`, but with a smaller or higher `vector_size`.\n",
    "\n",
    "Verify on some words that the embedding size is the one you chose."
   ]
  },
  {
   "cell_type": "code",
   "execution_count": 21,
   "metadata": {
    "execution": {
     "iopub.execute_input": "2025-08-26T14:30:59.298406Z",
     "iopub.status.busy": "2025-08-26T14:30:59.298073Z",
     "iopub.status.idle": "2025-08-26T14:31:00.121209Z",
     "shell.execute_reply": "2025-08-26T14:31:00.120622Z",
     "shell.execute_reply.started": "2025-08-26T14:30:59.298384Z"
    },
    "tags": [
     "challengify"
    ]
   },
   "outputs": [
    {
     "data": {
      "text/plain": [
       "50"
      ]
     },
     "execution_count": 21,
     "metadata": {},
     "output_type": "execute_result"
    }
   ],
   "source": [
    "word2vec_2 = Word2Vec(sentences=X_train, vector_size=50)\n",
    "wv2 = word2vec_2.wv\n",
    "len(wv2['movie'])"
   ]
  },
  {
   "cell_type": "markdown",
   "metadata": {},
   "source": [
    "❓ **Question** ❓ Use the **`Word2Vec.wv.key_to_index`** attribute to display the size of the learned vocabulary. Compare it to the number of different words in `X_train`."
   ]
  },
  {
   "cell_type": "code",
   "execution_count": 24,
   "metadata": {
    "execution": {
     "iopub.execute_input": "2025-08-26T14:32:12.822061Z",
     "iopub.status.busy": "2025-08-26T14:32:12.821476Z",
     "iopub.status.idle": "2025-08-26T14:32:12.844722Z",
     "shell.execute_reply": "2025-08-26T14:32:12.843936Z",
     "shell.execute_reply.started": "2025-08-26T14:32:12.822034Z"
    },
    "tags": [
     "challengify"
    ]
   },
   "outputs": [
    {
     "name": "stdout",
     "output_type": "stream",
     "text": [
      "Vocabulary size 8006\n",
      "Number of different words in the train set 30419\n"
     ]
    }
   ],
   "source": [
    "print('Vocabulary size', len(wv2.key_to_index))\n",
    "\n",
    "diff_words = set([_ for elt in X_train for _ in elt])\n",
    "print('Number of different words in the train set', len(diff_words))"
   ]
  },
  {
   "cell_type": "markdown",
   "metadata": {},
   "source": [
    "There is an important difference between the number of words in the train sentences and in the Word2Vec vocabulary, even though it has been trained on the train sentence set. The reasons comes from the second important hyperparameter of Word2Vec:  `min_count`. \n",
    "\n",
    "`min_count` is a integer that tells you how many occurrences a given word should have to be learned in the embedding space. For instance, let's say that the word \"movie\" appears 1000 times in the corpus and \"simba\" only 2 times. If `min_count=3`, the word \"simba\" will be skipped during the training.\n",
    "\n",
    "The intention is to learn a representation of words that are sufficiently present in the corpus to have a robust embedded representation."
   ]
  },
  {
   "cell_type": "markdown",
   "metadata": {},
   "source": [
    "❓ **Question** ❓ Learn a new `word2vec_3` model with a `min_count` higher than 5 (which is the default value) and a `word2vec_4` with a `min_count` smaller than 5, and then, compare the size of the vocabulary for all the different word2vecs that you have trained (you can choose any `vector_size` you want)."
   ]
  },
  {
   "cell_type": "code",
   "execution_count": 25,
   "metadata": {
    "execution": {
     "iopub.execute_input": "2025-08-26T14:34:20.172958Z",
     "iopub.status.busy": "2025-08-26T14:34:20.172694Z",
     "iopub.status.idle": "2025-08-26T14:34:21.713884Z",
     "shell.execute_reply": "2025-08-26T14:34:21.713389Z",
     "shell.execute_reply.started": "2025-08-26T14:34:20.172942Z"
    },
    "tags": [
     "challengify"
    ]
   },
   "outputs": [
    {
     "name": "stdout",
     "output_type": "stream",
     "text": [
      "Number of word in W2V #1 : 8006\n",
      "Number of word in W2V #2 : 8006\n",
      "Number of word in W2V #3 : 1385\n",
      "Number of word in W2V #4 : 16729\n"
     ]
    }
   ],
   "source": [
    "word2vec_3 = Word2Vec(sentences=X_train, vector_size=50, min_count=40)\n",
    "word2vec_4 = Word2Vec(sentences=X_train, vector_size=50, min_count=2)\n",
    "\n",
    "print(f'Number of word in W2V #1 : {len(wv.key_to_index)}')\n",
    "print(f'Number of word in W2V #2 : {len(wv2.key_to_index)}')\n",
    "print(f'Number of word in W2V #3 : {len(word2vec_3.wv.key_to_index)}')\n",
    "print(f'Number of word in W2V #4 : {len(word2vec_4.wv.key_to_index)}')"
   ]
  },
  {
   "cell_type": "markdown",
   "metadata": {},
   "source": [
    "Remember that Word2Vec has an internal neural network that is optimized based on some predictions. These predictions actually correspond to predicting a word based on surrounding words. The surroundings words are in a `window` which corresponds to the number of words taken into account. And you can train the Word2Vec with different `window` sizes."
   ]
  },
  {
   "cell_type": "markdown",
   "metadata": {},
   "source": [
    "❓ **Question** ❓ Train a new `word2vec_5` model with a `window` different than previously (default is 5)."
   ]
  },
  {
   "cell_type": "code",
   "execution_count": 26,
   "metadata": {
    "execution": {
     "iopub.execute_input": "2025-08-26T14:35:23.087857Z",
     "iopub.status.busy": "2025-08-26T14:35:23.087195Z",
     "iopub.status.idle": "2025-08-26T14:35:23.762096Z",
     "shell.execute_reply": "2025-08-26T14:35:23.761573Z",
     "shell.execute_reply.started": "2025-08-26T14:35:23.087827Z"
    },
    "tags": [
     "challengify"
    ]
   },
   "outputs": [],
   "source": [
    "word2vec_5 = Word2Vec(sentences=X_train, vector_size=50, min_count=40, window=10)"
   ]
  },
  {
   "cell_type": "markdown",
   "metadata": {},
   "source": [
    "The arguments you have seen (`vector_size`, `min_count` and `window`) are usually the ones that you should start playing with to get a better performance for your model.\n",
    "\n",
    "But you can also look at other arguments in the [**📚 Documentation - gensim.models.word2vec.Text8Corpus**](https://radimrehurek.com/gensim/models/word2vec.html#gensim.models.word2vec.Text8Corpus)"
   ]
  },
  {
   "cell_type": "markdown",
   "metadata": {},
   "source": [
    "# Convert our train and test set to RNN-ready datasets"
   ]
  },
  {
   "cell_type": "markdown",
   "metadata": {},
   "source": [
    "Remember that `Word2Vec` is the first step to the overall process of feeding such a representation into a RNN, as shown here:\n",
    "\n",
    "<img src=\"https://wagon-public-datasets.s3.amazonaws.com/data-science-images/06-DL/NLP/word2vec_representation.png\" alt=\"Word2Vec and RNN\" width=\"400px\" />\n",
    "\n",
    "\n",
    "\n",
    "Now, let's work on Step 2 by converting the training and test data into their vector representation to be ready to be fed in RNNs.\n",
    "\n",
    "❓ **Question** ❓ Now, write a function that, given a sentence, returns a matrix that corresponds to the embedding of the full sentence, which means that you have to embed each word one after the other and concatenate the result to output a 2D matrix (make sure that your output is a NumPy array)\n",
    "\n",
    "❗ **Remark** ❗ You will probably notice that some words you are trying to convert throw errors as they are said not to belong to the dictionary:\n",
    "\n",
    "- For the <font color=orange>test</font> set, this is understandable: <font color=orange>some words were not</font> in the <font color=blue>train</font> set and thus, their <font color=orange>embedded representation is unknown</font>\n",
    "- for the <font color=blue>train set</font>, due to `min_count` hyperparameter, not all the words have a vector representation.\n",
    "\n",
    "In any case, just skip the missing words here."
   ]
  },
  {
   "cell_type": "code",
   "execution_count": 27,
   "metadata": {
    "execution": {
     "iopub.execute_input": "2025-08-26T14:37:50.479665Z",
     "iopub.status.busy": "2025-08-26T14:37:50.479038Z",
     "iopub.status.idle": "2025-08-26T14:37:50.483922Z",
     "shell.execute_reply": "2025-08-26T14:37:50.483316Z",
     "shell.execute_reply.started": "2025-08-26T14:37:50.479644Z"
    }
   },
   "outputs": [],
   "source": [
    "import numpy as np\n",
    "\n",
    "example = ['this', 'movie', 'is', 'the', 'worst', 'action', 'movie', 'ever']\n",
    "example_missing_words = ['this', 'movie', 'is', 'laaaaaaaaaame']\n",
    "\n",
    "def embed_sentence(word2vec, sentence):\n",
    "    # $CHALLENGIFY_BEGIN\n",
    "    embedded_sentence = []\n",
    "    for word in sentence:\n",
    "        if word in word2vec.wv:\n",
    "            embedded_sentence.append(word2vec.wv[word])\n",
    "\n",
    "    return np.array(embedded_sentence)\n",
    "    # $CHALLENGIFY_END\n",
    "\n",
    "### Checks\n",
    "embedded_sentence = embed_sentence(word2vec, example)\n",
    "assert(type(embedded_sentence) == np.ndarray)\n",
    "assert(embedded_sentence.shape == (8, 100))\n",
    "\n",
    "embedded_sentence_missing_words = embed_sentence(word2vec, example_missing_words)\n",
    "assert(type(embedded_sentence_missing_words) == np.ndarray)\n",
    "assert(embedded_sentence_missing_words.shape == (3, 100))"
   ]
  },
  {
   "cell_type": "markdown",
   "metadata": {},
   "source": [
    "❓ **Question** ❓ Write a function that, given a list of sentences (each sentence being a list of words/strings), returns a list of embedded sentences (each sentence is a matrix). Apply this function to the train and test sentences\n",
    "\n",
    "💡 _Hint_: Use the previous function `embed_sentence`"
   ]
  },
  {
   "cell_type": "code",
   "execution_count": 28,
   "metadata": {
    "execution": {
     "iopub.execute_input": "2025-08-26T14:38:38.695634Z",
     "iopub.status.busy": "2025-08-26T14:38:38.695272Z",
     "iopub.status.idle": "2025-08-26T14:38:39.765248Z",
     "shell.execute_reply": "2025-08-26T14:38:39.764798Z",
     "shell.execute_reply.started": "2025-08-26T14:38:38.695609Z"
    }
   },
   "outputs": [],
   "source": [
    "def embedding(word2vec, sentences):\n",
    "    # $CHALLENGIFY_BEGIN\n",
    "    embed = []\n",
    "\n",
    "    for sentence in sentences:\n",
    "        embedded_sentence = embed_sentence(word2vec, sentence)\n",
    "        embed.append(embedded_sentence)\n",
    "\n",
    "    return embed\n",
    "    # $CHALLENGIFY_END\n",
    "\n",
    "X_train_embedded = embedding(word2vec, X_train)\n",
    "X_test_embedded = embedding(word2vec, X_test)"
   ]
  },
  {
   "cell_type": "code",
   "execution_count": 33,
   "metadata": {
    "execution": {
     "iopub.execute_input": "2025-08-26T14:40:24.632420Z",
     "iopub.status.busy": "2025-08-26T14:40:24.632046Z",
     "iopub.status.idle": "2025-08-26T14:40:24.636657Z",
     "shell.execute_reply": "2025-08-26T14:40:24.636056Z",
     "shell.execute_reply.started": "2025-08-26T14:40:24.632402Z"
    }
   },
   "outputs": [
    {
     "data": {
      "text/plain": [
       "['this',\n",
       " 'was',\n",
       " 'an',\n",
       " 'absolutely',\n",
       " 'terrible',\n",
       " 'movie',\n",
       " \"don't\",\n",
       " 'be',\n",
       " 'lured',\n",
       " 'in',\n",
       " 'by',\n",
       " 'christopher',\n",
       " 'walken',\n",
       " 'or',\n",
       " 'michael']"
      ]
     },
     "execution_count": 33,
     "metadata": {},
     "output_type": "execute_result"
    }
   ],
   "source": [
    "X_train[0][:15]"
   ]
  },
  {
   "cell_type": "code",
   "execution_count": 35,
   "metadata": {
    "execution": {
     "iopub.execute_input": "2025-08-26T14:40:43.302425Z",
     "iopub.status.busy": "2025-08-26T14:40:43.302108Z",
     "iopub.status.idle": "2025-08-26T14:40:43.306881Z",
     "shell.execute_reply": "2025-08-26T14:40:43.306209Z",
     "shell.execute_reply.started": "2025-08-26T14:40:43.302405Z"
    }
   },
   "outputs": [
    {
     "data": {
      "text/plain": [
       "array([[ 0.46893847, -0.06059681,  0.38299426, ..., -0.44789234,\n",
       "        -0.12187928, -0.8779955 ],\n",
       "       [-0.03556885, -0.26703873,  0.9626283 , ..., -1.2053041 ,\n",
       "         1.2031425 ,  0.38690406],\n",
       "       [-0.12373436,  0.08009813, -0.19743836, ..., -0.6142474 ,\n",
       "        -0.49053627,  0.6730926 ],\n",
       "       ...,\n",
       "       [-0.0301866 ,  0.07451824, -0.03031518, ..., -0.05549408,\n",
       "         0.03084572,  0.03216632],\n",
       "       [-0.5998239 ,  0.3286389 , -0.42818695, ..., -0.7997284 ,\n",
       "         0.0686361 , -0.57730716],\n",
       "       [-0.22869307,  0.42504695, -0.08248838, ..., -0.21999852,\n",
       "         0.04912448,  0.18088193]], dtype=float32)"
      ]
     },
     "execution_count": 35,
     "metadata": {},
     "output_type": "execute_result"
    }
   ],
   "source": [
    "X_train_embedded[0][:15]"
   ]
  },
  {
   "cell_type": "markdown",
   "metadata": {},
   "source": [
    "❓ **Question** ❓ In order to have ready-to-use data, do not forget to pad your sequences so you have tensors which can be divided into batches (of `batch_size`) during the optimization. Store the padded values in `X_train_pad` and `X_test_pad`. Do not forget the important arguments of the padding ;)"
   ]
  },
  {
   "cell_type": "code",
   "execution_count": 29,
   "metadata": {
    "execution": {
     "iopub.execute_input": "2025-08-26T14:39:30.678725Z",
     "iopub.status.busy": "2025-08-26T14:39:30.678263Z",
     "iopub.status.idle": "2025-08-26T14:39:31.480168Z",
     "shell.execute_reply": "2025-08-26T14:39:31.479665Z",
     "shell.execute_reply.started": "2025-08-26T14:39:30.678702Z"
    }
   },
   "outputs": [],
   "source": [
    "### YOUR CODE HERE\n",
    "# $DELETE_BEGIN\n",
    "from tensorflow.keras.preprocessing.sequence import pad_sequences\n",
    "\n",
    "X_train_pad = pad_sequences(X_train_embedded, dtype='float32', padding='post')\n",
    "X_test_pad = pad_sequences(X_test_embedded, dtype='float32', padding='post')\n",
    "\n",
    "# $DELETE_END\n",
    "assert(len(X_train_pad.shape) == 3)\n",
    "assert(len(X_test_pad.shape) == 3)\n",
    "assert(X_train_pad.shape[2] == 100)\n",
    "assert(X_test_pad.shape[2] == 100)"
   ]
  },
  {
   "cell_type": "markdown",
   "metadata": {},
   "source": [
    "\n",
    "\n",
    "🏁 Congratulations, you are now able to use `Word2Vec` to embed your words :)"
   ]
  }
 ],
 "metadata": {
  "kernelspec": {
   "display_name": "Python 3 (ipykernel)",
   "language": "python",
   "name": "python3"
  },
  "language_info": {
   "codemirror_mode": {
    "name": "ipython",
    "version": 3
   },
   "file_extension": ".py",
   "mimetype": "text/x-python",
   "name": "python",
   "nbconvert_exporter": "python",
   "pygments_lexer": "ipython3",
   "version": "3.12.9"
  },
  "toc": {
   "base_numbering": 1,
   "nav_menu": {},
   "number_sections": true,
   "sideBar": true,
   "skip_h1_title": false,
   "title_cell": "Table of Contents",
   "title_sidebar": "Contents",
   "toc_cell": false,
   "toc_position": {},
   "toc_section_display": true,
   "toc_window_display": false
  }
 },
 "nbformat": 4,
 "nbformat_minor": 4
}
